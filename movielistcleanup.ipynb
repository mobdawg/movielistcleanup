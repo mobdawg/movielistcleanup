{
 "cells": [
  {
   "cell_type": "code",
   "execution_count": 3,
   "id": "0cfefc97",
   "metadata": {},
   "outputs": [],
   "source": [
    "import pandas as pd"
   ]
  },
  {
   "cell_type": "code",
   "execution_count": 4,
   "id": "1add7e49",
   "metadata": {},
   "outputs": [],
   "source": [
    "# change the <path_of_movie_list> with the path of movie list CSV file\n",
    "data = pd.read_csv(\"<path_of_movie_list>\")"
   ]
  },
  {
   "cell_type": "code",
   "execution_count": 5,
   "id": "70d1a36d",
   "metadata": {},
   "outputs": [],
   "source": [
    "data = data.loc[:, \"title\":]"
   ]
  },
  {
   "cell_type": "code",
   "execution_count": 6,
   "id": "6f232218",
   "metadata": {},
   "outputs": [],
   "source": [
    "data[\"otitle\"] = data[\"title\"]"
   ]
  },
  {
   "cell_type": "code",
   "execution_count": 8,
   "id": "b42e68f5",
   "metadata": {},
   "outputs": [],
   "source": [
    "allgenres = data[\"genres\"].str.split(\"|\").explode().unique()"
   ]
  },
  {
   "cell_type": "code",
   "execution_count": 9,
   "id": "4ac9840a",
   "metadata": {},
   "outputs": [],
   "source": [
    "data[\"year\"] = data[\"title\"].str.extract(r\"([\\(][0-9]+[\\)])\")"
   ]
  },
  {
   "cell_type": "code",
   "execution_count": 10,
   "id": "2c33cbe9",
   "metadata": {},
   "outputs": [],
   "source": [
    "data[\"year\"] = data[\"year\"].str.extract(r\"([0-9]+)\").fillna(\"1995\")"
   ]
  },
  {
   "cell_type": "code",
   "execution_count": 11,
   "id": "dd496ea7",
   "metadata": {},
   "outputs": [],
   "source": [
    "data[\"title\"] = data[\"title\"].str.replace(r\"([\\(][0-9]+[\\)])\", \"\", regex=True).str.rstrip()"
   ]
  },
  {
   "cell_type": "code",
   "execution_count": 12,
   "id": "847d7ab2",
   "metadata": {},
   "outputs": [],
   "source": [
    "data[\"engtitle\"] = data[\"title\"].str.replace(r\"([\\(][\\w\\d\\s,./!-:']+[\\)])\", \"\", regex=True)"
   ]
  },
  {
   "cell_type": "code",
   "execution_count": 13,
   "id": "5224fc8b",
   "metadata": {},
   "outputs": [],
   "source": [
    "data[\"engtitle\"] = data[\"engtitle\"].str.strip()"
   ]
  },
  {
   "cell_type": "code",
   "execution_count": 14,
   "id": "03da5a75",
   "metadata": {},
   "outputs": [],
   "source": [
    "data[\"engtitlerearrange\"] = data[\"engtitle\"].str.split(\",\").str[::-1].apply(lambda x: [i.strip() for i in x]).str.join(\" \")"
   ]
  },
  {
   "cell_type": "code",
   "execution_count": 15,
   "id": "0eedb2e9",
   "metadata": {},
   "outputs": [],
   "source": [
    "data[\"engtitleparenthesis\"] = data[\"title\"].str.extract(r\"([\\(][\\w\\s,./!-:']+[\\)])\").fillna(\"\")"
   ]
  },
  {
   "cell_type": "code",
   "execution_count": 16,
   "id": "58f612a9",
   "metadata": {},
   "outputs": [],
   "source": [
    "repl = lambda m: m.group(1).replace(\",\", \"\")"
   ]
  },
  {
   "cell_type": "code",
   "execution_count": 17,
   "id": "f3e4cd89",
   "metadata": {},
   "outputs": [],
   "source": [
    "data[\"engtitleparenthesis\"] = data[\"engtitleparenthesis\"].str.replace(r\"([0-9]+,)\", repl, regex=True)"
   ]
  },
  {
   "cell_type": "code",
   "execution_count": 18,
   "id": "33dd9491",
   "metadata": {},
   "outputs": [],
   "source": [
    "data[\"engtitleparenthesisrearrange\"] = data[\"engtitleparenthesis\"].str.replace(r\"[\\(\\)]\", \"\", regex=True)"
   ]
  },
  {
   "cell_type": "code",
   "execution_count": 19,
   "id": "92a74053",
   "metadata": {},
   "outputs": [],
   "source": [
    "data[\"engtitleparenthesisrearrange\"] = data[\"engtitleparenthesisrearrange\"].str.split(\",\").str[::-1]"
   ]
  },
  {
   "cell_type": "code",
   "execution_count": 20,
   "id": "f15d2767",
   "metadata": {},
   "outputs": [],
   "source": [
    "data[\"engtitleparenthesisrearrange\"] = data[\"engtitleparenthesisrearrange\"].apply(lambda x: [i.strip() for i in x]).str.join(\" \")"
   ]
  },
  {
   "cell_type": "code",
   "execution_count": 21,
   "id": "d21f4d8b",
   "metadata": {},
   "outputs": [],
   "source": [
    "data[\"engtitleparenthesisrearrange\"] = data[\"engtitleparenthesisrearrange\"].apply(lambda x: (x if x == \"\" else f\"({x})\"))"
   ]
  },
  {
   "cell_type": "code",
   "execution_count": 22,
   "id": "f446385d",
   "metadata": {},
   "outputs": [],
   "source": [
    "data[\"engtitlecat\"] = data[\"engtitlerearrange\"].str.cat(data[\"engtitleparenthesisrearrange\"], sep=\" \")"
   ]
  },
  {
   "cell_type": "code",
   "execution_count": 23,
   "id": "73472a26",
   "metadata": {},
   "outputs": [],
   "source": [
    "data[\"title\"] = data[\"engtitlecat\"].str.strip()"
   ]
  },
  {
   "cell_type": "code",
   "execution_count": 24,
   "id": "3fd547d3",
   "metadata": {},
   "outputs": [],
   "source": [
    "data[\"genre\"] = data[\"genres\"].str.split(\"|\").str.get(0)"
   ]
  },
  {
   "cell_type": "code",
   "execution_count": 25,
   "id": "dbaace7c",
   "metadata": {},
   "outputs": [],
   "source": [
    "data = data.drop(columns=\n",
    "                 [\n",
    "                     \"otitle\", \n",
    "                     \"engtitle\", \n",
    "                     \"engtitlerearrange\", \n",
    "                     \"engtitleparenthesis\",\n",
    "                     \"engtitleparenthesisrearrange\",\n",
    "                     \"engtitlecat\", \n",
    "                     \"genres\"\n",
    "                 ]\n",
    "            )"
   ]
  },
  {
   "cell_type": "code",
   "execution_count": 26,
   "id": "4aabad35",
   "metadata": {},
   "outputs": [],
   "source": [
    "data = data[[\"title\", \"genre\", \"year\"]]"
   ]
  },
  {
   "cell_type": "code",
   "execution_count": 27,
   "id": "180ccb36",
   "metadata": {
    "scrolled": true
   },
   "outputs": [
    {
     "data": {
      "text/html": [
       "<div>\n",
       "<style scoped>\n",
       "    .dataframe tbody tr th:only-of-type {\n",
       "        vertical-align: middle;\n",
       "    }\n",
       "\n",
       "    .dataframe tbody tr th {\n",
       "        vertical-align: top;\n",
       "    }\n",
       "\n",
       "    .dataframe thead th {\n",
       "        text-align: right;\n",
       "    }\n",
       "</style>\n",
       "<table border=\"1\" class=\"dataframe\">\n",
       "  <thead>\n",
       "    <tr style=\"text-align: right;\">\n",
       "      <th></th>\n",
       "      <th>title</th>\n",
       "      <th>genre</th>\n",
       "      <th>year</th>\n",
       "    </tr>\n",
       "  </thead>\n",
       "  <tbody>\n",
       "    <tr>\n",
       "      <th>0</th>\n",
       "      <td>Toy Story</td>\n",
       "      <td>Adventure</td>\n",
       "      <td>1995</td>\n",
       "    </tr>\n",
       "    <tr>\n",
       "      <th>1</th>\n",
       "      <td>Jumanji</td>\n",
       "      <td>Adventure</td>\n",
       "      <td>1995</td>\n",
       "    </tr>\n",
       "    <tr>\n",
       "      <th>2</th>\n",
       "      <td>Grumpier Old Men</td>\n",
       "      <td>Comedy</td>\n",
       "      <td>1995</td>\n",
       "    </tr>\n",
       "    <tr>\n",
       "      <th>3</th>\n",
       "      <td>Waiting to Exhale</td>\n",
       "      <td>Comedy</td>\n",
       "      <td>1995</td>\n",
       "    </tr>\n",
       "    <tr>\n",
       "      <th>4</th>\n",
       "      <td>Father of the Bride Part II</td>\n",
       "      <td>Comedy</td>\n",
       "      <td>1995</td>\n",
       "    </tr>\n",
       "    <tr>\n",
       "      <th>...</th>\n",
       "      <td>...</td>\n",
       "      <td>...</td>\n",
       "      <td>...</td>\n",
       "    </tr>\n",
       "    <tr>\n",
       "      <th>9120</th>\n",
       "      <td>Mohenjo Daro</td>\n",
       "      <td>Adventure</td>\n",
       "      <td>2016</td>\n",
       "    </tr>\n",
       "    <tr>\n",
       "      <th>9121</th>\n",
       "      <td>Shin Godzilla</td>\n",
       "      <td>Action</td>\n",
       "      <td>2016</td>\n",
       "    </tr>\n",
       "    <tr>\n",
       "      <th>9122</th>\n",
       "      <td>The Beatles: Eight Days a Week - The Touring Y...</td>\n",
       "      <td>Documentary</td>\n",
       "      <td>2016</td>\n",
       "    </tr>\n",
       "    <tr>\n",
       "      <th>9123</th>\n",
       "      <td>The Gay Desperado</td>\n",
       "      <td>Comedy</td>\n",
       "      <td>1936</td>\n",
       "    </tr>\n",
       "    <tr>\n",
       "      <th>9124</th>\n",
       "      <td>Unboxed Women of '69</td>\n",
       "      <td>Documentary</td>\n",
       "      <td>1995</td>\n",
       "    </tr>\n",
       "  </tbody>\n",
       "</table>\n",
       "<p>9125 rows × 3 columns</p>\n",
       "</div>"
      ],
      "text/plain": [
       "                                                  title        genre  year\n",
       "0                                             Toy Story    Adventure  1995\n",
       "1                                               Jumanji    Adventure  1995\n",
       "2                                      Grumpier Old Men       Comedy  1995\n",
       "3                                     Waiting to Exhale       Comedy  1995\n",
       "4                           Father of the Bride Part II       Comedy  1995\n",
       "...                                                 ...          ...   ...\n",
       "9120                                       Mohenjo Daro    Adventure  2016\n",
       "9121                                      Shin Godzilla       Action  2016\n",
       "9122  The Beatles: Eight Days a Week - The Touring Y...  Documentary  2016\n",
       "9123                                  The Gay Desperado       Comedy  1936\n",
       "9124                               Unboxed Women of '69  Documentary  1995\n",
       "\n",
       "[9125 rows x 3 columns]"
      ]
     },
     "execution_count": 27,
     "metadata": {},
     "output_type": "execute_result"
    }
   ],
   "source": [
    "data"
   ]
  },
  {
   "cell_type": "code",
   "execution_count": null,
   "id": "dfc249ac",
   "metadata": {},
   "outputs": [],
   "source": []
  }
 ],
 "metadata": {
  "kernelspec": {
   "display_name": "Python 3 (ipykernel)",
   "language": "python",
   "name": "python3"
  },
  "language_info": {
   "codemirror_mode": {
    "name": "ipython",
    "version": 3
   },
   "file_extension": ".py",
   "mimetype": "text/x-python",
   "name": "python",
   "nbconvert_exporter": "python",
   "pygments_lexer": "ipython3",
   "version": "3.8.2"
  }
 },
 "nbformat": 4,
 "nbformat_minor": 5
}
